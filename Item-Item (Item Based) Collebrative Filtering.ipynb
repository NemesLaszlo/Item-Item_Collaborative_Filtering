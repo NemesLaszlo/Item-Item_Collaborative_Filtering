{
 "cells": [
  {
   "cell_type": "code",
   "execution_count": 25,
   "metadata": {},
   "outputs": [],
   "source": [
    "import numpy as np\n",
    "import pandas as pd\n",
    "import math"
   ]
  },
  {
   "cell_type": "code",
   "execution_count": 26,
   "metadata": {},
   "outputs": [],
   "source": [
    "# movies and critics\n",
    "dataset={'Lisa Rose': {'Lady in the Water': 2.5, 'Snakes on a Plane': 3.5,'Just My Luck': 3.0, 'Superman Returns': 3.5, 'You, Me and Dupree': 2.5,'The Night Listener': 3.0},\n",
    "        'Gene Seymour': {'Lady in the Water': 3.0, 'Snakes on a Plane': 3.5,'Just My Luck': 1.5, 'Superman Returns': 5.0, 'The Night Listener': 3.0,'You, Me and Dupree': 3.5},\n",
    "        'Michael Phillips': {'Lady in the Water': 2.5, 'Snakes on a Plane': 3.0,'Superman Returns': 3.5, 'The Night Listener': 4.0},\n",
    "        'Claudia Puig': {'Snakes on a Plane': 3.5, 'Just My Luck': 3.0,'The Night Listener': 4.5, 'Superman Returns': 4.0,'You, Me and Dupree': 2.5},\n",
    "        'Mick LaSalle': {'Lady in the Water': 3.0, 'Snakes on a Plane': 4.0,'Just My Luck': 2.0, 'Superman Returns': 3.0, 'The Night Listener': 3.0,'You, Me and Dupree': 2.0},\n",
    "        'Jack Matthews': {'Lady in the Water': 3.0, 'Snakes on a Plane': 4.0,'The Night Listener': 3.0, 'Superman Returns': 5.0, 'You, Me and Dupree': 3.5},\n",
    "        'Toby': {'Snakes on a Plane':4.5,'You, Me and Dupree':1.0,'Superman Returns':4.0}}"
   ]
  },
  {
   "cell_type": "code",
   "execution_count": 27,
   "metadata": {},
   "outputs": [
    {
     "data": {
      "text/html": [
       "<div>\n",
       "<style scoped>\n",
       "    .dataframe tbody tr th:only-of-type {\n",
       "        vertical-align: middle;\n",
       "    }\n",
       "\n",
       "    .dataframe tbody tr th {\n",
       "        vertical-align: top;\n",
       "    }\n",
       "\n",
       "    .dataframe thead th {\n",
       "        text-align: right;\n",
       "    }\n",
       "</style>\n",
       "<table border=\"1\" class=\"dataframe\">\n",
       "  <thead>\n",
       "    <tr style=\"text-align: right;\">\n",
       "      <th></th>\n",
       "      <th>Lisa Rose</th>\n",
       "      <th>Gene Seymour</th>\n",
       "      <th>Michael Phillips</th>\n",
       "      <th>Claudia Puig</th>\n",
       "      <th>Mick LaSalle</th>\n",
       "      <th>Jack Matthews</th>\n",
       "      <th>Toby</th>\n",
       "    </tr>\n",
       "  </thead>\n",
       "  <tbody>\n",
       "    <tr>\n",
       "      <th>Lady in the Water</th>\n",
       "      <td>2.5</td>\n",
       "      <td>3.0</td>\n",
       "      <td>2.5</td>\n",
       "      <td>0.0</td>\n",
       "      <td>3.0</td>\n",
       "      <td>3.0</td>\n",
       "      <td>0.0</td>\n",
       "    </tr>\n",
       "    <tr>\n",
       "      <th>Snakes on a Plane</th>\n",
       "      <td>3.5</td>\n",
       "      <td>3.5</td>\n",
       "      <td>3.0</td>\n",
       "      <td>3.5</td>\n",
       "      <td>4.0</td>\n",
       "      <td>4.0</td>\n",
       "      <td>4.5</td>\n",
       "    </tr>\n",
       "    <tr>\n",
       "      <th>Just My Luck</th>\n",
       "      <td>3.0</td>\n",
       "      <td>1.5</td>\n",
       "      <td>0.0</td>\n",
       "      <td>3.0</td>\n",
       "      <td>2.0</td>\n",
       "      <td>0.0</td>\n",
       "      <td>0.0</td>\n",
       "    </tr>\n",
       "    <tr>\n",
       "      <th>Superman Returns</th>\n",
       "      <td>3.5</td>\n",
       "      <td>5.0</td>\n",
       "      <td>3.5</td>\n",
       "      <td>4.0</td>\n",
       "      <td>3.0</td>\n",
       "      <td>5.0</td>\n",
       "      <td>4.0</td>\n",
       "    </tr>\n",
       "    <tr>\n",
       "      <th>You, Me and Dupree</th>\n",
       "      <td>2.5</td>\n",
       "      <td>3.5</td>\n",
       "      <td>0.0</td>\n",
       "      <td>2.5</td>\n",
       "      <td>2.0</td>\n",
       "      <td>3.5</td>\n",
       "      <td>1.0</td>\n",
       "    </tr>\n",
       "    <tr>\n",
       "      <th>The Night Listener</th>\n",
       "      <td>3.0</td>\n",
       "      <td>3.0</td>\n",
       "      <td>4.0</td>\n",
       "      <td>4.5</td>\n",
       "      <td>3.0</td>\n",
       "      <td>3.0</td>\n",
       "      <td>0.0</td>\n",
       "    </tr>\n",
       "  </tbody>\n",
       "</table>\n",
       "</div>"
      ],
      "text/plain": [
       "                    Lisa Rose  Gene Seymour  Michael Phillips  Claudia Puig  \\\n",
       "Lady in the Water         2.5           3.0               2.5           0.0   \n",
       "Snakes on a Plane         3.5           3.5               3.0           3.5   \n",
       "Just My Luck              3.0           1.5               0.0           3.0   \n",
       "Superman Returns          3.5           5.0               3.5           4.0   \n",
       "You, Me and Dupree        2.5           3.5               0.0           2.5   \n",
       "The Night Listener        3.0           3.0               4.0           4.5   \n",
       "\n",
       "                    Mick LaSalle  Jack Matthews  Toby  \n",
       "Lady in the Water            3.0            3.0   0.0  \n",
       "Snakes on a Plane            4.0            4.0   4.5  \n",
       "Just My Luck                 2.0            0.0   0.0  \n",
       "Superman Returns             3.0            5.0   4.0  \n",
       "You, Me and Dupree           2.0            3.5   1.0  \n",
       "The Night Listener           3.0            3.0   0.0  "
      ]
     },
     "execution_count": 27,
     "metadata": {},
     "output_type": "execute_result"
    }
   ],
   "source": [
    "data=pd.DataFrame(dataset).fillna(0)\n",
    "data"
   ]
  },
  {
   "cell_type": "code",
   "execution_count": 28,
   "metadata": {},
   "outputs": [],
   "source": [
    "# Euclidean Distance\n",
    "\n",
    "#now finding the similarity between any two person using Euclidean distance\n",
    "def get_similarity(data,p1,p2):\n",
    "    #for finding the similarity between tow person \n",
    "    #we need to find the similar item between them. Similar item mean ..rate score against same movie\n",
    "    \n",
    "    p1=[score for key,score in data[p1].items()]\n",
    "    p2=[score for key,score in data[p2].items()]\n",
    "    \n",
    "    sum_of_square=sum(pow(p1[index]-p2[index],2) for index in range(len(p1)) if p2[index]!=0 and p1[index]!=0)\n",
    "        \n",
    "    return 1/(1+sum_of_square)"
   ]
  },
  {
   "cell_type": "code",
   "execution_count": 29,
   "metadata": {},
   "outputs": [
    {
     "data": {
      "text/plain": [
       "0.10810810810810811"
      ]
     },
     "execution_count": 29,
     "metadata": {},
     "output_type": "execute_result"
    }
   ],
   "source": [
    "get_similarity(data,\"Gene Seymour\",\"Toby\")"
   ]
  },
  {
   "cell_type": "code",
   "execution_count": 30,
   "metadata": {},
   "outputs": [
    {
     "name": "stdout",
     "output_type": "stream",
     "text": [
      "           Lisa Rose             1.000000\n",
      "    Michael Phillips             0.444444\n",
      "        Mick LaSalle             0.333333\n",
      "        Claudia Puig             0.285714\n",
      "                Toby             0.222222\n",
      "       Jack Matthews             0.210526\n",
      "        Gene Seymour             0.148148\n"
     ]
    }
   ],
   "source": [
    "# Ranking List : Euclidean distance\n",
    "\n",
    "#lets i want find the distance between Lisa Rose and every other person\n",
    "\n",
    "ranking={}\n",
    "names=list(data.columns)\n",
    "for person in names:\n",
    "    ranking[person]=get_similarity(data,\"Lisa Rose\",person)\n",
    "\n",
    "sortedlist=sorted(ranking,key=ranking.get,reverse=True)\n",
    "\n",
    "for key in sortedlist:\n",
    "    print(\"%20s %20f\"%(key,ranking[key]))"
   ]
  },
  {
   "cell_type": "code",
   "execution_count": 31,
   "metadata": {},
   "outputs": [
    {
     "data": {
      "text/plain": [
       "0.39605901719066977"
      ]
     },
     "execution_count": 31,
     "metadata": {},
     "output_type": "execute_result"
    }
   ],
   "source": [
    "# Pearson correlation\n",
    "\n",
    "def sim_correlation(data,p1,p2):\n",
    "    #finding x and y\n",
    "    list_p1=list(data[p1])\n",
    "    list_p2=list(data[p2])\n",
    "    \n",
    "    #finding step1 and 2\n",
    "    sum1=sum(list_p1[index] for index in range(len(list_p1)) if list_p2[index]!=0)\n",
    "    sum2=sum(list_p2[index] for index in range(len(list_p2)) if list_p1[index]!=0)\n",
    "    \n",
    "    #doing step 3\n",
    "    pSum=sum([list_p1[index]*list_p2[index] for index in range(len(list_p1)) if list_p1[index]!=0 and list_p2[index]!=0])\n",
    "    \n",
    "    #doing Step 5 and 6\n",
    "    sum1sqr=sum([pow(list_p1[index],2) for index in range(len(list_p1)) if list_p1[index]!=0 and list_p2[index]!=0])\n",
    "    sum2sqr=sum([pow(list_p2[index],2) for index in range(len(list_p2)) if list_p1[index]!=0 and list_p2[index]!=0])\n",
    "    \n",
    "    #n-of nummerator\n",
    "    n=([index for index in range(len(list_p1)) if list_p1[index]!=0 and list_p2[index]!=0])\n",
    "    n=len(n)\n",
    "    \n",
    "    #nummerator\n",
    "    num=pSum-(sum1*sum2/n)\n",
    "    \n",
    "    #Denamuerator\n",
    "    den=math.sqrt(sum1sqr-pow(sum1,2)/n)*math.sqrt(sum2sqr-pow(sum2,2)/n)\n",
    "    \n",
    "    r=num/den\n",
    "    \n",
    "    return r\n",
    "\n",
    "sim_correlation(data,\"Lisa Rose\",\"Gene Seymour\")"
   ]
  },
  {
   "cell_type": "code",
   "execution_count": 32,
   "metadata": {},
   "outputs": [
    {
     "name": "stdout",
     "output_type": "stream",
     "text": [
      "           Lisa Rose             1.000000\n",
      "                Toby             0.991241\n",
      "       Jack Matthews             0.747018\n",
      "        Mick LaSalle             0.594089\n",
      "        Claudia Puig             0.566947\n",
      "    Michael Phillips             0.404520\n",
      "        Gene Seymour             0.396059\n"
     ]
    }
   ],
   "source": [
    "# Rakning for pearson Correlation score\n",
    "\n",
    "#lets i want find the distance between Lisa Rose and every other person\n",
    "\n",
    "ranking={}\n",
    "names=list(data.columns)\n",
    "for person in names:\n",
    "    ranking[person]=sim_correlation(data,\"Lisa Rose\",person)\n",
    "\n",
    "sortedlist=sorted(ranking,key=ranking.get,reverse=True)\n",
    "\n",
    "for key in sortedlist:\n",
    "    print(\"%20s %20f\"%(key,ranking[key]))"
   ]
  },
  {
   "cell_type": "code",
   "execution_count": 33,
   "metadata": {},
   "outputs": [
    {
     "name": "stdout",
     "output_type": "stream",
     "text": [
      "           Lisa Rose             1.000000\n",
      "    Michael Phillips             0.444444\n",
      "        Mick LaSalle             0.333333\n",
      "        Claudia Puig             0.285714\n",
      "                Toby             0.222222\n",
      "       Jack Matthews             0.210526\n",
      "        Gene Seymour             0.148148\n"
     ]
    }
   ],
   "source": [
    "#lets i want find the distance between Lisa Rose and every other person\n",
    "\n",
    "ranking={}\n",
    "names=list(data.columns)\n",
    "for person in names:\n",
    "    ranking[person]=get_similarity(data,\"Lisa Rose\",person)\n",
    "\n",
    "sortedlist=sorted(ranking,key=ranking.get,reverse=True)\n",
    "\n",
    "for key in sortedlist:\n",
    "    print(\"%20s %20f\"%(key,ranking[key]))"
   ]
  },
  {
   "cell_type": "code",
   "execution_count": 34,
   "metadata": {},
   "outputs": [
    {
     "data": {
      "text/plain": [
       "[(3.3477895267131017, 'The Night Listener'),\n",
       " (2.8325499182641622, 'Lady in the Water'),\n",
       " (2.5309807037655645, 'Just My Luck')]"
      ]
     },
     "execution_count": 34,
     "metadata": {},
     "output_type": "execute_result"
    }
   ],
   "source": [
    "# User Baased Collebrative filtering\n",
    "\n",
    "# Recommendation item ..Similarity between person and item\n",
    "\n",
    "def get_recommendation_item(data,person):\n",
    "    totals={}\n",
    "    simSum={}\n",
    "    names=list(data.columns)\n",
    "    movies=list(data.transpose().columns)\n",
    "\n",
    "    for other in names:\n",
    "        if other==person:\n",
    "            continue\n",
    "        sim=sim_correlation(data,person,other)\n",
    "        \n",
    "        if sim<=0:\n",
    "            continue\n",
    "        \n",
    "        for item in movies:\n",
    "            if data[person][item]==0 and data[other][item]!=0:\n",
    "                totals.setdefault(item,0)\n",
    "                totals[item]+=data[other][item]*sim\n",
    "                simSum.setdefault(item,0)\n",
    "                simSum[item]+=sim\n",
    "    ranking=[(total/simSum[item],item) for item,total in totals.items()]\n",
    "              \n",
    "    ranking.sort()\n",
    "    ranking.reverse()\n",
    "    \n",
    "    return ranking\n",
    "\n",
    "\n",
    "get_recommendation_item(data,\"Toby\")"
   ]
  },
  {
   "cell_type": "code",
   "execution_count": 35,
   "metadata": {},
   "outputs": [
    {
     "data": {
      "text/plain": [
       "[(0.6579516949597696, 'You, Me and Dupree'),\n",
       " (0.4879500364742689, 'Lady in the Water'),\n",
       " (0.11180339887498941, 'Snakes on a Plane'),\n",
       " (-0.1798471947990544, 'The Night Listener'),\n",
       " (-0.42289003161103106, 'Just My Luck')]"
      ]
     },
     "execution_count": 35,
     "metadata": {},
     "output_type": "execute_result"
    }
   ],
   "source": [
    "# Item Based Collbarative Filtering\n",
    "\n",
    "def top_matches_items(data,movie,n=5):\n",
    "    data=data.transpose()\n",
    "    movies=list(data.columns)\n",
    "        \n",
    "    score=[(sim_correlation(data,other,movie),other) for other in movies if other!=movie]\n",
    "    score.sort()\n",
    "    score.reverse()\n",
    "    return score[0:n]\n",
    "\n",
    "sim=top_matches_items(data,'Superman Returns')\n",
    "sim"
   ]
  },
  {
   "cell_type": "code",
   "execution_count": 36,
   "metadata": {},
   "outputs": [
    {
     "data": {
      "text/plain": [
       "{'Lady in the Water': [(0.7637626158259785, 'Snakes on a Plane'),\n",
       "  (0.4879500364742689, 'Superman Returns'),\n",
       "  (0.3333333333333333, 'You, Me and Dupree'),\n",
       "  (-0.6123724356957927, 'The Night Listener'),\n",
       "  (-0.9449111825230676, 'Just My Luck')],\n",
       " 'Snakes on a Plane': [(0.7637626158259785, 'Lady in the Water'),\n",
       "  (0.11180339887498941, 'Superman Returns'),\n",
       "  (-0.3333333333333333, 'Just My Luck'),\n",
       "  (-0.5663521139548529, 'The Night Listener'),\n",
       "  (-0.6454972243679047, 'You, Me and Dupree')],\n",
       " 'Just My Luck': [(0.5555555555555556, 'The Night Listener'),\n",
       "  (-0.3333333333333333, 'Snakes on a Plane'),\n",
       "  (-0.42289003161103106, 'Superman Returns'),\n",
       "  (-0.48566186425718266, 'You, Me and Dupree'),\n",
       "  (-0.9449111825230676, 'Lady in the Water')],\n",
       " 'Superman Returns': [(0.6579516949597696, 'You, Me and Dupree'),\n",
       "  (0.4879500364742689, 'Lady in the Water'),\n",
       "  (0.11180339887498941, 'Snakes on a Plane'),\n",
       "  (-0.1798471947990544, 'The Night Listener'),\n",
       "  (-0.42289003161103106, 'Just My Luck')],\n",
       " 'You, Me and Dupree': [(0.6579516949597696, 'Superman Returns'),\n",
       "  (0.3333333333333333, 'Lady in the Water'),\n",
       "  (-0.250000000000002, 'The Night Listener'),\n",
       "  (-0.48566186425718266, 'Just My Luck'),\n",
       "  (-0.6454972243679047, 'Snakes on a Plane')],\n",
       " 'The Night Listener': [(0.5555555555555556, 'Just My Luck'),\n",
       "  (-0.1798471947990544, 'Superman Returns'),\n",
       "  (-0.250000000000002, 'You, Me and Dupree'),\n",
       "  (-0.5663521139548529, 'Snakes on a Plane'),\n",
       "  (-0.6123724356957927, 'Lady in the Water')]}"
      ]
     },
     "execution_count": 36,
     "metadata": {},
     "output_type": "execute_result"
    }
   ],
   "source": [
    "def calculate_similar_items(data,n=10):\n",
    "    #creating dictionary of item which show which itenms are most similar\n",
    "    result={}\n",
    "    movies=list(data.transpose().columns)\n",
    "    for item in movies:\n",
    "        score=top_matches_items(data,item,n)\n",
    "        result[item]=score\n",
    "        \n",
    "    return result\n",
    "\n",
    "calculate_similar_items(data)"
   ]
  },
  {
   "cell_type": "code",
   "execution_count": 37,
   "metadata": {},
   "outputs": [
    {
     "data": {
      "text/plain": [
       "[(3.610031066802182, 'Lady in the Water'),\n",
       " (3.5313950341859766, 'The Night Listener'),\n",
       " (2.9609998607242685, 'Just My Luck')]"
      ]
     },
     "execution_count": 37,
     "metadata": {},
     "output_type": "execute_result"
    }
   ],
   "source": [
    "def get_recommendaded_items_rebuild(data,ralatedmovie,person):\n",
    "    userrating=[(movie,rate) for movie,rate in data[person].items() if rate!=0]\n",
    "    userrating=dict(userrating)\n",
    "    score={}\n",
    "    totalSim={}\n",
    "    \n",
    "    for movie,rating in userrating.items():\n",
    "        \n",
    "        for similarity,submovie in ralatedmovie[movie]:\n",
    "            \n",
    "            if submovie in userrating:\n",
    "                continue\n",
    "            #wheighted sum of rating times similarity\n",
    "            score.setdefault(submovie,0)\n",
    "            score[submovie]+=similarity*rating\n",
    "            \n",
    "            #Sum of all the similarities \n",
    "            totalSim.setdefault(submovie,0)\n",
    "            totalSim[submovie]+=similarity\n",
    "    #divid each total score by total weighting to get an average\n",
    "    rankings=[(score/totalSim[item],item) for item,score in score.items()]\n",
    "    \n",
    "    #Return the rankings from highes to lwoest\n",
    "    rankings.sort()\n",
    "    rankings.reverse()\n",
    "    return rankings\n",
    "    \n",
    "sim=calculate_similar_items(data, 5)\n",
    "get_recommendaded_items_rebuild(data,sim, \"Toby\")"
   ]
  }
 ],
 "metadata": {
  "kernelspec": {
   "display_name": "Python 3",
   "language": "python",
   "name": "python3"
  },
  "language_info": {
   "codemirror_mode": {
    "name": "ipython",
    "version": 3
   },
   "file_extension": ".py",
   "mimetype": "text/x-python",
   "name": "python",
   "nbconvert_exporter": "python",
   "pygments_lexer": "ipython3",
   "version": "3.7.6"
  }
 },
 "nbformat": 4,
 "nbformat_minor": 4
}
